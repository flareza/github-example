{
    "cells": [
        {
            "cell_type": "markdown",
            "metadata": {},
            "source": "# The Best Location on Scarborough based on your interest"
        },
        {
            "cell_type": "markdown",
            "metadata": {},
            "source": "## Background (Q1)"
        },
        {
            "cell_type": "markdown",
            "metadata": {},
            "source": "The purpose of this project is to identify which area in Scarborough, Toronto is the most ideal place to live in based on the nearby locations."
        },
        {
            "cell_type": "markdown",
            "metadata": {},
            "source": "By identifying the most common categories or stores nearby, it will help people in deciding which neighborhood they prefer to live in."
        },
        {
            "cell_type": "markdown",
            "metadata": {},
            "source": "## Problem (Q1)"
        },
        {
            "cell_type": "markdown",
            "metadata": {},
            "source": "The main objective of this project is to help individuals who are planning to move in to Scarborough, Toronto decide which area will best suit their needs based on the nearby locations."
        },
        {
            "cell_type": "markdown",
            "metadata": {},
            "source": "In order to provide a more specific result, we are limiting the scope of this project by targeting people who are living an active lifestyle."
        },
        {
            "cell_type": "markdown",
            "metadata": {},
            "source": "With this, the project aims to answer the question below:"
        },
        {
            "cell_type": "markdown",
            "metadata": {},
            "source": "<center>\"Which neighborhood in Scarborough, Toronto will best suit an individual who is living an active lifestyle (likes to run in a park, do hiking/trail adventures, or simply workout in a gym)?\"</center>"
        },
        {
            "cell_type": "markdown",
            "metadata": {},
            "source": "## Description of Data and How it will be used to solve the Problem (Q2)"
        },
        {
            "cell_type": "markdown",
            "metadata": {},
            "source": "<b> Data Description </b>"
        },
        {
            "cell_type": "markdown",
            "metadata": {},
            "source": "The data link that will be used for this project will be: https://en.wikipedia.org/wiki/List_of_postal_codes_of_Canada:_M"
        },
        {
            "cell_type": "markdown",
            "metadata": {},
            "source": "Foursquare API Data:"
        },
        {
            "cell_type": "markdown",
            "metadata": {},
            "source": "Since we will be needing information about the different venue names, locations, and other related information, we will be using Foursquare to gain that locational information."
        },
        {
            "cell_type": "markdown",
            "metadata": {},
            "source": "The data that we aim to retrieve using Foursquare are as follows: (1) Neighborhood Name, (2) Neighborhood Latitude, (3) Neighborhood Longitude, (4) Venue, (5) Name of Venue), (6) Venue Latitude, (7) Venue Longitude, and (8) Venue Category."
        },
        {
            "cell_type": "markdown",
            "metadata": {},
            "source": "<b>How it will be used to Solve the Problem</b>"
        },
        {
            "cell_type": "markdown",
            "metadata": {},
            "source": "The data that we will get from both the data link and Foursquare will be used to identify the specific neighborhood that has the highest number of venue that will fit an individual who is trying to live an active lifestyle."
        },
        {
            "cell_type": "markdown",
            "metadata": {},
            "source": "## Methodology (Q3)"
        },
        {
            "cell_type": "markdown",
            "metadata": {},
            "source": "<b>About the Location</b>"
        },
        {
            "cell_type": "markdown",
            "metadata": {},
            "source": "Scarborough is a popular among new immigrants in Canada. This area is known for its diversity and multicultural environment. It is also rich in natural landmarks and has the reputation of being a greener location in Toronto among the others. "
        },
        {
            "cell_type": "markdown",
            "metadata": {},
            "source": "<b>Foursquare API</b>"
        },
        {
            "cell_type": "markdown",
            "metadata": {},
            "source": "This will be utilised in this project as Foursqaure will be the prime data gathering source where we will get the necessary information about the various venues in Scarborough. "
        },
        {
            "cell_type": "markdown",
            "metadata": {},
            "source": "<b>Libraries used</b>"
        },
        {
            "cell_type": "markdown",
            "metadata": {},
            "source": "We used <b>Pandas</b> for dataframe creation and manipulation. In order to visualize the neighborhood cluster distribution, we will be using <b>Folium</b>. Since we also need to do k-means clustering, we will be using <b>Scikit Learn</b>. Furthermore, we also used <b>Geocoder</b> to retrieve the location data. Lastly, we used <b>Beautiful Soup and Requests</b> to scrap data."
        },
        {
            "cell_type": "markdown",
            "metadata": {},
            "source": "## Results (Q4)"
        },
        {
            "cell_type": "markdown",
            "metadata": {},
            "source": "<b>Top Nearby Locations</b>"
        },
        {
            "cell_type": "markdown",
            "metadata": {},
            "source": "The top five nearby locations in Scarborough are: (1) Disney Store, (2)St. Andrews Fish & Chips, (3)Sephora, (4) David's Tea, and (5) American Eagle Outfitters. With these items, you can see that the nearby locations available in Scarborough is very dvrse and does not only focus on a single category. "
        },
        {
            "cell_type": "markdown",
            "metadata": {},
            "source": "However, if we try to dig deeper by finding out which category has the highest number, we found out that the category that is the highest is <b>Cloting Store</b> with 7 items. This is followed by food categories such as <b>Restaurant</b> and <b>Coffee Shop</b>, both with 4 items. "
        },
        {
            "cell_type": "markdown",
            "metadata": {},
            "source": "<b> The Best Neighborhood in Scarborough </b>"
        },
        {
            "cell_type": "markdown",
            "metadata": {},
            "source": "The top 4 neighborhood in Scarborough are: (1)Agincourt, with 28 venue categories, (2)Bathurst Manor, Wilson Heights, Downsview North, with 24 venue categories, (3)Alderwood, Long Branch with 9 venue categories, and Bayview Village with 5. "
        },
        {
            "cell_type": "markdown",
            "metadata": {},
            "source": "In order to identify which among these neighborhoods will be the best based on your interest, below are the key takeaways of the results:"
        },
        {
            "cell_type": "markdown",
            "metadata": {},
            "source": "It is important to note that we are just going to look into the top 5 categories per neighborhood. "
        },
        {
            "cell_type": "markdown",
            "metadata": {},
            "source": "1. Agincourt = (1) Chinese Restaurant, (2)Shopping Mall, (3)Hong Kong Restaurant, (4)Sushi Restaurant, (5)Supermarket"
        },
        {
            "cell_type": "markdown",
            "metadata": {},
            "source": "2. \tAlderwood, Long Branch = (1)Pizza Place, (2)Pub, (3)Sandwich Place, (4)Coffee Shop, (5)Skating Rink"
        },
        {
            "cell_type": "markdown",
            "metadata": {},
            "source": "3. Bathurst Manor, Wilson Heights, Downsview North = (1)Bank, (2)Coffee Shop, (3)Community Center, (4)Deli/Bodega, (5)Shopping Mall"
        },
        {
            "cell_type": "markdown",
            "metadata": {},
            "source": "4. Bayview Village = (1)Park, (2)Construction & Landscaping, (3)Trail, (4)Women's Store, (5)Ethiopian Restaurant"
        },
        {
            "cell_type": "markdown",
            "metadata": {},
            "source": "When we do K-means clustering to cluster neighborhood into 3 clusters, we got another set of neighborhood that will shouw the merged version. These are:"
        },
        {
            "cell_type": "markdown",
            "metadata": {},
            "source": "1. Malvern, Rouge = (1)Park, (2)Trail, (3)Women's Store, (4)Elementary School, (5)Dog Run"
        },
        {
            "cell_type": "markdown",
            "metadata": {},
            "source": "2. Rouge Hill, Port Union, Highland Creek = (1)Bar, (2) Moving Target, (3)Fish and Chips Shop, (4)Park, (5)Doner Restaurant"
        },
        {
            "cell_type": "markdown",
            "metadata": {},
            "source": "3. Guildwood, Morningside, West Hill = (1) Pizza Place, (2)Park, (3)Fast Food Restaurant, (4)Bank, (5)Coffee Shop"
        },
        {
            "cell_type": "markdown",
            "metadata": {},
            "source": "4. Woburn = (1)Coffee Shop, (2)Business Service, (3)Park, (4)Women's Store, (5)Dog Run"
        },
        {
            "cell_type": "markdown",
            "metadata": {},
            "source": "## Discusssion (Q5)"
        },
        {
            "cell_type": "markdown",
            "metadata": {},
            "source": "With these results, we can see that Scarborough can be a good place for people who ae into trying out different cuisines or basically, foodies. Aside from this, we can say that in general, Scarborough can also attract people who are trying to live a healthier lifestyle given the number of parks and trails available in the neighborhood. "
        },
        {
            "cell_type": "markdown",
            "metadata": {},
            "source": "## Conclusion (Q6)"
        },
        {
            "cell_type": "markdown",
            "metadata": {},
            "source": "To answer our question of which Scarborough neighborhood will best suit an individual who is living an active lifestyle, the neighborhood that can fit this wil be the one that has the highest number of possible venue where he/she can run or workout. "
        },
        {
            "cell_type": "markdown",
            "metadata": {},
            "source": "Given that the top venue categories for <b>Malvern, Rough</b> are Park, Trail, Women's Store, Elementary School, and Dog Run, we can say that this is the best possible neighborhood in Scarborough for someone who is trying to have an active lifestyle. This such individual can perform his/her workout activities in the park, trail, or even by having a dog run. "
        },
        {
            "cell_type": "code",
            "execution_count": null,
            "metadata": {},
            "outputs": [],
            "source": ""
        }
    ],
    "metadata": {
        "kernelspec": {
            "display_name": "Python 3.6",
            "language": "python",
            "name": "python3"
        },
        "language_info": {
            "codemirror_mode": {
                "name": "ipython",
                "version": 3
            },
            "file_extension": ".py",
            "mimetype": "text/x-python",
            "name": "python",
            "nbconvert_exporter": "python",
            "pygments_lexer": "ipython3",
            "version": "3.6.9"
        }
    },
    "nbformat": 4,
    "nbformat_minor": 1
}