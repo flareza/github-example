{
    "cells": [
        {
            "cell_type": "markdown",
            "metadata": {
                "collapsed": true
            },
            "source": "# The Best Location in Scarborough based on your Interest"
        },
        {
            "cell_type": "markdown",
            "metadata": {},
            "source": "# Background (Q1)"
        },
        {
            "cell_type": "markdown",
            "metadata": {},
            "source": "The purpose of this project is to identify which area in Scarborough, Toronto is the most ideal place to live in based on the nearby locations. "
        },
        {
            "cell_type": "markdown",
            "metadata": {},
            "source": "By identifying the most common categories or stores nearby, it will help people in deciding which neighborhood they prefer to live in. "
        },
        {
            "cell_type": "markdown",
            "metadata": {},
            "source": "# Problem (Q1)"
        },
        {
            "cell_type": "markdown",
            "metadata": {},
            "source": "The main objective of this project is to help individuals who are planning to move in to Scarborough, Toronto decide which area will best suit their needs based on the nearby locations. "
        },
        {
            "cell_type": "markdown",
            "metadata": {},
            "source": "In order to provide a more specific result, we are limiting the scope of this project by targeting people who are living an active lifestyle."
        },
        {
            "cell_type": "markdown",
            "metadata": {},
            "source": "With this, the project aims to answer the question below:"
        },
        {
            "cell_type": "markdown",
            "metadata": {},
            "source": "### 1.\tWhich neighborhood in Scarborough, Toronto will best suit an individual who is living an active lifestyle (likes to run in a park, do hiking/trail adventures, or simply workout in a gym)? "
        },
        {
            "cell_type": "markdown",
            "metadata": {},
            "source": "# Description of Data and How it will be used to solve the Problem (Q2)"
        },
        {
            "cell_type": "markdown",
            "metadata": {},
            "source": "# Data Description"
        },
        {
            "cell_type": "markdown",
            "metadata": {},
            "source": "The data link that will be used for this project will be: https://en.wikipedia.org/wiki/List_of_postal_codes_of_Canada:_M"
        },
        {
            "cell_type": "markdown",
            "metadata": {},
            "source": "Foursquare API Data: "
        },
        {
            "cell_type": "markdown",
            "metadata": {},
            "source": "Since we will be needing information about the different venue names, locations, and other related information, we will be using Foursquare to gain that locational information. "
        },
        {
            "cell_type": "markdown",
            "metadata": {},
            "source": "The data that we aim to retrieve using Foursquare are as follows: (1) Neighborhood Name, (2) Neighborhood Latitude, (3) Neighborhood Longitude, (4) Venue, (5) Name of Venue), (6) Venue Latitude, (7) Venue Longitude, and (8) Venue Category. "
        },
        {
            "cell_type": "markdown",
            "metadata": {},
            "source": "# How it will be used to Solve the Problem"
        },
        {
            "cell_type": "markdown",
            "metadata": {},
            "source": "The data that we will get from both the data link and Foursquare will be used to identify the specific neighborhood that has the highest number of venue that will fit an individual who is trying to live an active lifestyle."
        },
        {
            "cell_type": "code",
            "execution_count": null,
            "metadata": {},
            "outputs": [],
            "source": ""
        }
    ],
    "metadata": {
        "kernelspec": {
            "display_name": "Python 3.6",
            "language": "python",
            "name": "python3"
        },
        "language_info": {
            "codemirror_mode": {
                "name": "ipython",
                "version": 3
            },
            "file_extension": ".py",
            "mimetype": "text/x-python",
            "name": "python",
            "nbconvert_exporter": "python",
            "pygments_lexer": "ipython3",
            "version": "3.6.9"
        }
    },
    "nbformat": 4,
    "nbformat_minor": 1
}